{
 "cells": [
  {
   "cell_type": "markdown",
   "id": "f50c2d20-0f56-4246-9f10-cd76adf24bd9",
   "metadata": {},
   "source": [
    "# Namibia Tourism Sentiment Analysis"
   ]
  },
  {
   "cell_type": "markdown",
   "id": "525ad089-6a65-4a87-b268-880ec3d5c802",
   "metadata": {},
   "source": [
    "## 1. Import Necessary Libraries"
   ]
  },
  {
   "cell_type": "code",
   "execution_count": null,
   "id": "1d2e189e-7a33-4cab-b7f4-693ad4489fe3",
   "metadata": {},
   "outputs": [],
   "source": [
    "import pandas as pd\n",
    "import itertools\n",
    "import matplotlib.pyplot as plt\n",
    "plt.style.use('fivethirtyeight')\n",
    "import seaborn as sns\n",
    "import numpy as np\n",
    "import re\n",
    "import string\n",
    "\n",
    "import nltk\n",
    "from nltk.corpus import stopwords\n",
    "from nltk.sentiment import SentimentIntensityAnalyzer\n",
    "from nltk.stem import WordNetLemmatizer\n",
    "from textblob import Word, TextBlob\n",
    "\n",
    "import torch\n",
    "from torch.nn.functional import softmax\n",
    "\n",
    "import emoji\n",
    "from cleantext import clean\n",
    "import preprocessor as p  # tweet-preprocessor\n",
    "\n",
    "from gensim.parsing.preprocessing import remove_stopwords\n",
    "\n",
    "from transformers import RobertaTokenizer, RobertaForSequenceClassification\n",
    "\n",
    "from tqdm import tqdm\n",
    "\n",
    "# NLTK data download (only if not already downloaded)\n",
    "def download_nltk_package(package_name, resource_path):\n",
    "    try:\n",
    "        nltk.data.find(resource_path)\n",
    "    except LookupError:\n",
    "        nltk.download(package_name)\n",
    "\n",
    "download_nltk_package('vader_lexicon', 'sentiment/vader_lexicon.zip')\n",
    "download_nltk_package('wordnet', 'corpora/wordnet.zip')\n",
    "download_nltk_package('omw-1.4', 'corpora/omw-1.4.zip')\n",
    "\n",
    "# Initialize sentiment analyzer\n",
    "sia = SentimentIntensityAnalyzer()"
   ]
  },
  {
   "cell_type": "markdown",
   "id": "e826260c-bb2a-4b62-83a5-02081c5c6aab",
   "metadata": {},
   "source": [
    "## 2. Data Loading and Initial Preparation"
   ]
  },
  {
   "cell_type": "markdown",
   "id": "a65f12c2-d31a-44c8-b485-dc297610b95d",
   "metadata": {},
   "source": [
    "### 2.1. Load Dataset Function"
   ]
  },
  {
   "cell_type": "code",
   "execution_count": null,
   "id": "ed9b3ea0-8b43-41f4-8e8a-a869e3f556c1",
   "metadata": {},
   "outputs": [],
   "source": [
    "def load_dataset(file_path):\n",
    "    try:\n",
    "        # Attempt to load with UTF-8 encoding\n",
    "        df = pd.read_csv(file_path, encoding='utf-8')\n",
    "    except UnicodeDecodeError:\n",
    "        # Fallback to ISO-8859-1 encoding if UTF-8 fails\n",
    "        df = pd.read_csv(file_path, encoding='ISO-8859-1')\n",
    "    return df"
   ]
  },
  {
   "cell_type": "markdown",
   "id": "d81500a9-1178-4a47-85ad-7bf7b1fe6a81",
   "metadata": {},
   "source": [
    "### 2.2. Load and Preview Data|"
   ]
  },
  {
   "cell_type": "code",
   "execution_count": null,
   "id": "983579d7-5e7e-4d6f-9f11-7830e058b909",
   "metadata": {},
   "outputs": [],
   "source": [
    "df = load_dataset('namibia_reviews_tripadvisor.csv')\n",
    "df.head()"
   ]
  },
  {
   "cell_type": "markdown",
   "id": "80e1e9ab-eb72-4fa4-9729-fa7bd9b59ea9",
   "metadata": {},
   "source": [
    "## 3. Data Cleaning and Preprocessing"
   ]
  },
  {
   "cell_type": "markdown",
   "id": "e724e5eb-7fd7-48b3-9c04-92c6904e91b1",
   "metadata": {},
   "source": [
    "### 3.1. Column Management"
   ]
  },
  {
   "cell_type": "code",
   "execution_count": null,
   "id": "0f946b59-3170-4950-b2a1-d6c4d5af14bd",
   "metadata": {},
   "outputs": [],
   "source": [
    "# Drop the first column which appears to be an ID or redundant column\n",
    "df.drop(columns=[df.columns[0]], inplace=True)\n",
    "\n",
    "# Create new review Id column\n",
    "df['Id'] = range(1, len(df) + 1)\n",
    "first_column = df.pop('Id')\n",
    "df.insert(0, 'Id', first_column)"
   ]
  },
  {
   "cell_type": "markdown",
   "id": "aaaa1a7f-6cd7-417a-b691-3dbb130aee55",
   "metadata": {},
   "source": [
    "### 3.2. Country Standardization"
   ]
  },
  {
   "cell_type": "code",
   "execution_count": null,
   "id": "c4985f6a-fccf-4ac5-9776-7d1013dc141a",
   "metadata": {},
   "outputs": [],
   "source": [
    "country_mapping = {\n",
    "    'UK': 'United Kingdom',\n",
    "    'U.K.': 'United Kingdom',\n",
    "    'GB': 'United Kingdom',\n",
    "    'USA': 'United States',\n",
    "    'U.S.A': 'United States',\n",
    "    'US': 'United States',\n",
    "    'DC': 'United States',\n",
    "    'D.C.': 'United States',\n",
    "    'CA (USA)': 'United States',\n",
    "    'CA': 'California, United States',\n",
    "    'NY': 'New York, United States',\n",
    "    'TX': 'Texas, United States',\n",
    "    'FL': 'Florida, United States',\n",
    "    'NJ': 'New Jersey, United States',\n",
    "    'PA': 'Pennsylvania, United States',\n",
    "    'IL': 'Illinois, United States',\n",
    "    'GA': 'Georgia, United States',\n",
    "    'OH': 'Ohio, United States',\n",
    "    'NC': 'North Carolina, United States',\n",
    "    'MI': 'Michigan, United States',\n",
    "    'MN': 'Minnesota, United States',\n",
    "    'AZ': 'Arizona, United States',\n",
    "    'IN': 'Indiana, United States',\n",
    "    'WA': 'Washington, United States',\n",
    "    'WI': 'Wisconsin, United States',\n",
    "    'OR': 'Oregon, United States',\n",
    "    'MD': 'Maryland, United States',\n",
    "    'VA': 'Virginia, United States',\n",
    "    'MA': 'Massachusetts, United States',\n",
    "    'CO': 'Colorado, United States',\n",
    "    'UT': 'Utah, United States',\n",
    "    'NV': 'Nevada, United States',\n",
    "    'MO': 'Missouri, United States',\n",
    "    'AL': 'Alabama, United States',\n",
    "    'AK': 'Alaska, United States',\n",
    "    'MT': 'Montana, United States',\n",
    "    'NE': 'Nebraska, United States',\n",
    "    'NH': 'New Hampshire, United States',\n",
    "    'NM': 'New Mexico, United States',\n",
    "    'ND': 'North Dakota, United States',\n",
    "    'SD': 'South Dakota, United States',\n",
    "    'VT': 'Vermont, United States',\n",
    "    'WY': 'Wyoming, United States',\n",
    "    'IA': 'Iowa, United States',\n",
    "    'ID': 'Idaho, United States',\n",
    "    'ME': 'Maine, United States',\n",
    "    'LA': 'Louisiana, United States',\n",
    "    'DE': 'Delaware, United States',\n",
    "    'AR': 'Arkansas, United States',\n",
    "    'MS': 'Mississippi, United States',\n",
    "    'OK': 'Oklahoma, United States',\n",
    "    'KS': 'Kansas, United States',\n",
    "    'KY': 'Kentucky, United States',\n",
    "    'RI': 'Rhode Island, United States',\n",
    "    'SC': 'South Carolina, United States',\n",
    "    'TN': 'Tennessee, United States',\n",
    "    'CT': 'Connecticut, United States',\n",
    "    'AB': 'Alberta, Canada',\n",
    "    'ON': 'Ontario, Canada',\n",
    "    'BC': 'British Columbia, Canada',\n",
    "    'NSW': 'New South Wales, Australia',\n",
    "    'NZ': 'New Zealand',\n",
    "    'UAE': 'United Arab Emirates',\n",
    "    'DRC': 'Democratic Republic of the Congo',\n",
    "    'SA': 'South Africa',\n",
    "    'S A': 'South Africa',\n",
    "    'TLV': 'Israel',\n",
    "}\n",
    "\n",
    "# Extract and standardize country names\n",
    "df['tourist_country'] = df['tourist_country'].str.split(',').str[-1].str.strip()\n",
    "df['tourist_country'] = df['tourist_country'].replace(country_mapping)"
   ]
  },
  {
   "cell_type": "markdown",
   "id": "46d55dc2-58fa-4541-84c7-f9cb187dffa4",
   "metadata": {},
   "source": [
    "### 3.3. Missing Value Handling"
   ]
  },
  {
   "cell_type": "code",
   "execution_count": null,
   "id": "e68baed1-f0f1-4ab7-97b0-01e377a8f3d1",
   "metadata": {},
   "outputs": [],
   "source": [
    "print(\"Missing values before handling:\")\n",
    "print(df.isnull().sum())\n",
    "\n",
    "# Fill missing tourist types\n",
    "df['tourist_type'] = df['tourist_type'].fillna('Unknown')\n",
    "\n",
    "print(\"\\nMissing values after handling:\")\n",
    "print(df.isnull().sum())"
   ]
  },
  {
   "cell_type": "markdown",
   "id": "a499183f-7583-46ad-a158-6cbba367027e",
   "metadata": {},
   "source": [
    "### 3.4. Date Processing"
   ]
  },
  {
   "cell_type": "code",
   "execution_count": null,
   "id": "a4a1a24f-6e70-4027-9143-9b709856a4bd",
   "metadata": {},
   "outputs": [],
   "source": [
    "# Convert to datetime and extract temporal features\n",
    "df['visit_date'] = pd.to_datetime(df['visit_date'], format='%d-%b-%y', errors='coerce')\n",
    "df['review_date'] = pd.to_datetime(df['review_date'], format='%d-%b-%y', errors='coerce')\n",
    "\n",
    "# Extract temporal features\n",
    "df[\"WeekDay\"] = df['visit_date'].dt.day_name()\n",
    "df['WeekDay'] = pd.Categorical(df['WeekDay'], \n",
    "                               categories=['Sunday', 'Monday', 'Tuesday', 'Wednesday', \n",
    "                                          'Thursday', 'Friday', 'Saturday'],\n",
    "                               ordered=True)\n",
    "\n",
    "df[\"Month\"] = df['visit_date'].dt.month_name()\n",
    "df['Month'] = pd.Categorical(df['Month'], \n",
    "                             categories=['January', 'February', 'March', 'April', 'May', 'June',\n",
    "                                        'July', 'August', 'September', 'October', 'November', 'December'],\n",
    "                             ordered=True)\n",
    "\n",
    "df[\"Year\"] = df['visit_date'].dt.year.astype('Int64')"
   ]
  },
  {
   "cell_type": "markdown",
   "id": "b77bac90-294c-42a6-9e08-ec311989c220",
   "metadata": {},
   "source": [
    "### 3.5. Text Preprocessing"
   ]
  },
  {
   "cell_type": "code",
   "execution_count": null,
   "id": "8d12864a-e241-4b2c-8e52-c1bf0fa2c77f",
   "metadata": {},
   "outputs": [],
   "source": [
    "def remove_emojis(text):\n",
    "    return emoji.replace_emoji(text, replace='')\n",
    "\n",
    "def preprocess_reviews(row): \n",
    "    text = row['reviews']\n",
    "    text = remove_emojis(text)\n",
    "    text = re.sub(r'http\\S+|www\\S+|https\\S+', '', text, flags=re.MULTILINE)\n",
    "    return text\n",
    "\n",
    "def clean_text(text):\n",
    "    text = text.lower()\n",
    "    text = re.sub(r'\\d+', '', text)  # remove digits\n",
    "    text = re.sub(r'[^\\w\\s]', '', text)  # remove punctuation\n",
    "    text = re.sub(r'\\s+', ' ', text).strip()  # remove extra spaces\n",
    "    text = remove_stopwords(text)\n",
    "    return text\n",
    "\n",
    "# Apply preprocessing\n",
    "df['PreprocessedReviews'] = df.apply(preprocess_reviews, axis=1)\n",
    "df['CleanedReviews'] = df['PreprocessedReviews'].apply(clean_text)"
   ]
  },
  {
   "cell_type": "markdown",
   "id": "c54649c8-f723-4c6a-a7c3-a7dd7dda6dbe",
   "metadata": {},
   "source": [
    "### 3.6. Save Cleaned Data"
   ]
  },
  {
   "cell_type": "code",
   "execution_count": null,
   "id": "feacd2e5-fccc-4cde-b5a9-17ca4d92d1ac",
   "metadata": {},
   "outputs": [],
   "source": [
    "clean_df = df.copy()\n",
    "clean_df.head()"
   ]
  },
  {
   "cell_type": "markdown",
   "id": "030b8830-59f0-4d6b-ae24-fb33c15cae1e",
   "metadata": {},
   "source": [
    "## 4. Exploratory Data Analysis (EDA)"
   ]
  },
  {
   "cell_type": "markdown",
   "id": "f8298524-2b7a-4b5f-894b-8757dd86079f",
   "metadata": {},
   "source": [
    "### 4.1. Tourist Demographics"
   ]
  },
  {
   "cell_type": "code",
   "execution_count": null,
   "id": "85144912-0650-4a9e-8392-16952c6f0990",
   "metadata": {},
   "outputs": [],
   "source": [
    "plt.figure(figsize=(10, 6))\n",
    "top_countries = clean_df['tourist_country'].value_counts().nlargest(10).reset_index()\n",
    "top_countries.columns = ['Country', 'ReviewCount']\n",
    "sns.barplot(data=top_countries, y='Country', x='ReviewCount', palette='plasma')\n",
    "plt.title('Top 10 Countries Represented in Namibia Reviews')\n",
    "plt.show()"
   ]
  },
  {
   "cell_type": "markdown",
   "id": "d6cdced8-d0de-433b-94b1-fc0fd055d737",
   "metadata": {},
   "source": [
    "### 4.2. Temporal Patterns"
   ]
  },
  {
   "cell_type": "code",
   "execution_count": null,
   "id": "83c3c818-c957-473c-94f4-fd72907c59cb",
   "metadata": {},
   "outputs": [],
   "source": [
    "# Annual trends\n",
    "plt.figure(figsize=(10, 6))\n",
    "yearly_reviews = clean_df['Year'].value_counts().sort_index()\n",
    "yearly_reviews.plot(kind='bar', color=sns.color_palette(\"husl\", len(yearly_reviews)))\n",
    "plt.title('Distribution of Reviews Over the Years')\n",
    "plt.show()\n",
    "\n",
    "# Monthly and weekday patterns\n",
    "def plot_visits_by_day_and_month(df):\n",
    "    plt.figure(figsize=(16, 6))\n",
    "    plt.subplot(1, 2, 1)\n",
    "    sns.countplot(y='WeekDay', data=df, \n",
    "                  order=['Sunday', 'Monday', 'Tuesday', 'Wednesday', \n",
    "                         'Thursday', 'Friday', 'Saturday'],\n",
    "                  palette='coolwarm')\n",
    "    plt.title('Visits by Day of Week')\n",
    "    \n",
    "    plt.subplot(1, 2, 2)\n",
    "    sns.countplot(y='Month', data=df,\n",
    "                  order=['January', 'February', 'March', 'April', 'May', 'June',\n",
    "                         'July', 'August', 'September', 'October', 'November', 'December'],\n",
    "                  palette='husl')\n",
    "    plt.title('Visits by Month')\n",
    "    plt.tight_layout()\n",
    "    plt.show()\n",
    "\n",
    "plot_visits_by_day_and_month(clean_df)"
   ]
  },
  {
   "cell_type": "markdown",
   "id": "aaf6a326-e623-4cb0-98d5-32568d045ce3",
   "metadata": {},
   "source": [
    "### 4.3. Tourist Types Analysis"
   ]
  },
  {
   "cell_type": "code",
   "execution_count": null,
   "id": "f78e00fe-51d7-4a07-8bec-c26b4c358a04",
   "metadata": {},
   "outputs": [],
   "source": [
    "plt.figure(figsize=(10, 6))\n",
    "type_counts = df['tourist_type'].value_counts(normalize=True) * 100\n",
    "colors = ['#1f77b4', '#ff7f0e', '#2ca02c', '#d62728', '#9467bd', '#8c564b']\n",
    "type_counts.plot(kind='bar', color=colors, width=0.7)\n",
    "plt.title('Frequency of Tourist Types')\n",
    "plt.ylabel('Percentage (%)')\n",
    "plt.show()"
   ]
  },
  {
   "cell_type": "markdown",
   "id": "33b25ffb-31c4-4314-96d3-242d3e097e15",
   "metadata": {},
   "source": [
    "### 4.4. Popular Destinations"
   ]
  },
  {
   "cell_type": "code",
   "execution_count": null,
   "id": "1e2a0d41-8cf4-4df4-bdc7-2ec27ef746b7",
   "metadata": {},
   "outputs": [],
   "source": [
    "plt.figure(figsize=(8, 8))\n",
    "top5_places = clean_df['reviewed_place'].value_counts().nlargest(5)\n",
    "top5_places.plot.pie(autopct='%1.1f%%', startangle=140, colors=sns.color_palette(\"coolwarm\", 5))\n",
    "plt.title('Top 5 Most Reviewed Tourist Places')\n",
    "plt.show()"
   ]
  },
  {
   "cell_type": "markdown",
   "id": "3b338a76-fcac-48a1-81e5-1ab86c0a6377",
   "metadata": {},
   "source": [
    "## 5. Sentiment Analysis"
   ]
  },
  {
   "cell_type": "markdown",
   "id": "a0dc1eeb-9c07-4ae2-8acc-f80c8b84e2a2",
   "metadata": {},
   "source": [
    "### 5.1. VADER Sentiment Analysis"
   ]
  },
  {
   "cell_type": "code",
   "execution_count": null,
   "id": "e4103fb5-2930-4ec3-bdac-e310cfea86c6",
   "metadata": {},
   "outputs": [],
   "source": [
    "# Get polarity scores\n",
    "res = {}\n",
    "for i, row in tqdm(df.iterrows(), total=len(clean_df)):\n",
    "    text = row['PreprocessedReviews'] \n",
    "    myid = row['Id']\n",
    "    res[myid] = sia.polarity_scores(text)\n",
    "\n",
    "# Merge results\n",
    "clean_df = pd.DataFrame(res).T\n",
    "clean_df = clean_df.reset_index().rename(columns={'index': 'Id'})\n",
    "clean_df = clean_df.merge(df, how='left')\n",
    "\n",
    "# Classify sentiments\n",
    "def GetAnalysis(score):\n",
    "    if score < 0:\n",
    "        return \"Negative\"\n",
    "    elif score == 0:\n",
    "        return \"Neutral\"\n",
    "    else:\n",
    "        return \"Positive\"\n",
    "\n",
    "clean_df['VaderAnalysis'] = clean_df['compound'].apply(GetAnalysis)\n",
    "\n",
    "# Plot sentiment distribution\n",
    "plt.figure(figsize=(8, 6))\n",
    "ax = sns.countplot(data=clean_df, x='VaderAnalysis', palette='Set2')\n",
    "plt.title('VADER Sentiment Distribution')\n",
    "plt.show()"
   ]
  },
  {
   "cell_type": "markdown",
   "id": "712afa98-d8e5-43ba-b581-7e79468656f3",
   "metadata": {},
   "source": [
    "### 5.2. RoBERTa Sentiment Analysis"
   ]
  },
  {
   "cell_type": "code",
   "execution_count": null,
   "id": "895e96c2-e711-4af0-a7b5-6a82677cdfcc",
   "metadata": {},
   "outputs": [],
   "source": [
    "# Load RoBERTa model\n",
    "model_name = \"cardiffnlp/twitter-roberta-base-sentiment\"\n",
    "tokenizer = AutoTokenizer.from_pretrained(model_name)\n",
    "model = AutoModelForSequenceClassification.from_pretrained(model_name)\n",
    "\n",
    "# Sentiment scoring function\n",
    "def polarity_scores_roberta(text):\n",
    "    encoded_text = tokenizer(text, return_tensors='pt', truncation=True, max_length=512)\n",
    "    output = model(**encoded_text)\n",
    "    scores = output[0][0].detach().numpy()\n",
    "    probs = softmax(scores)\n",
    "    return {\n",
    "        'roberta_neg': probs[0],\n",
    "        'roberta_neu': probs[1],\n",
    "        'roberta_pos': probs[2]\n",
    "    }\n",
    "\n",
    "# Apply RoBERTa to dataset\n",
    "res = {}\n",
    "for i, row in tqdm(clean_df.iterrows(), total=len(clean_df)):\n",
    "    try:\n",
    "        text = row['PreprocessedReviews']\n",
    "        myid = row['Id']\n",
    "        vader_results = sia.polarity_scores(text)\n",
    "        vader_scores = {f\"vader_{k}\": v for k, v in vader_results.items()}\n",
    "        roberta_scores = polarity_scores_roberta(text)\n",
    "        res[myid] = {**vader_scores, **roberta_scores}\n",
    "    except Exception as e:\n",
    "        print(f\"Failed for id{row['Id']}: {e}\")\n",
    "\n",
    "# Create results DataFrame\n",
    "results_df = pd.DataFrame.from_dict(res, orient='index').reset_index().rename(columns={'index': 'Id'})\n",
    "results_df = results_df.merge(clean_df, on='Id', how='left')\n",
    "\n",
    "# Classify RoBERTa sentiments\n",
    "def GetRobertaAnalysis(row):\n",
    "    scores = [row['roberta_neg'], row['roberta_neu'], row['roberta_pos']]\n",
    "    idx = np.argmax(scores)\n",
    "    return ['Negative', 'Neutral', 'Positive'][idx]\n",
    "\n",
    "results_df['RoBERTaAnalysis'] = results_df.apply(GetRobertaAnalysis, axis=1)"
   ]
  },
  {
   "cell_type": "markdown",
   "id": "c6b49578-5326-4375-ab4d-38baea34aaa8",
   "metadata": {},
   "source": [
    "### 5.3. Model Comparison"
   ]
  },
  {
   "cell_type": "code",
   "execution_count": null,
   "id": "ebea4423-0df8-4dc7-8e59-e92c3a37c81c",
   "metadata": {},
   "outputs": [],
   "source": [
    "# Plot comparison\n",
    "plt.figure(figsize=(16, 5))\n",
    "plt.subplot(1, 2, 1)\n",
    "ax1 = sns.countplot(y=\"VaderAnalysis\", data=results_df, palette={\"Positive\": \"#2ecc71\", \"Negative\": \"#e74c3c\", \"Neutral\": \"#f1c40f\"})\n",
    "plt.title(\"VADER Sentiment Distribution\")\n",
    "\n",
    "plt.subplot(1, 2, 2)\n",
    "ax2 = sns.countplot(y=\"Rob_Analysis\", data=results_df, palette={\"Positive\": \"#27ae60\", \"Negative\": \"#c0392b\", \"Neutral\": \"#f39c12\"})\n",
    "plt.title(\"RoBERTa Sentiment Distribution\")\n",
    "plt.tight_layout()\n",
    "plt.show()"
   ]
  },
  {
   "cell_type": "markdown",
   "id": "97283f80-295e-496b-8417-7c807e9eb7fa",
   "metadata": {},
   "source": [
    "## 6. Advanced Analysis"
   ]
  },
  {
   "cell_type": "markdown",
   "id": "6bd74f1b-8b86-459c-99a5-ad80dc868b9e",
   "metadata": {},
   "source": [
    "### 6.1. Temporal Sentiment Trends"
   ]
  },
  {
   "cell_type": "code",
   "execution_count": null,
   "id": "1fe2e094-db83-4b6a-bdd6-a591cda8c667",
   "metadata": {},
   "outputs": [],
   "source": [
    "# Monthly sentiment trends\n",
    "month_abbr = {\n",
    "    'January': 'Jan', 'February': 'Feb', 'March': 'Mar', 'April': 'Apr',\n",
    "    'May': 'May', 'June': 'Jun', 'July': 'Jul', 'August': 'Aug',\n",
    "    'September': 'Sep', 'October': 'Oct', 'November': 'Nov', 'December': 'Dec'\n",
    "}\n",
    "results_df['ShortMonth'] = results_df['Month'].map(month_abbr)\n",
    "\n",
    "monthly_sent = results_df.groupby(['ShortMonth', 'RoBERTaAnalysis']).size().reset_index(name='count')\n",
    "month_order = ['Jan', 'Feb', 'Mar', 'Apr', 'May', 'Jun', 'Jul', 'Aug', 'Sep', 'Oct', 'Nov', 'Dec']\n",
    "monthly_sent['ShortMonth'] = pd.Categorical(monthly_sent['ShortMonth'], categories=month_order, ordered=True)\n",
    "\n",
    "plt.figure(figsize=(10, 5))\n",
    "sns.lineplot(data=monthly_sent, x='ShortMonth', y='count', hue='RoBERTaAnalysis', marker='o')\n",
    "plt.title('Monthly Sentiment Trend (RoBERTa)')\n",
    "plt.show()"
   ]
  },
  {
   "cell_type": "markdown",
   "id": "c25309b4-f52f-41fc-ac41-7752577e9595",
   "metadata": {},
   "source": [
    "### 6.2. COVID Impact Analysis"
   ]
  },
  {
   "cell_type": "code",
   "execution_count": null,
   "id": "20d38316-1bcd-4b7b-b2a0-1030524d584a",
   "metadata": {},
   "outputs": [],
   "source": [
    "post_covid_df = results_df[results_df['Year'] >= 2019]\n",
    "post_covid_sentiment = post_covid_df.groupby(['Year', 'RoBERTaAnalysis']).size().unstack().fillna(0)\n",
    "post_covid_sentiment.plot(figsize=(10, 6), marker='o')\n",
    "plt.axvline(x=2020, color='red', linestyle='--', label='COVID-19 Onset')\n",
    "plt.title('Post-COVID Sentiment Trends')\n",
    "plt.show()"
   ]
  },
  {
   "cell_type": "markdown",
   "id": "4076e9fb-a4b5-4ffc-8e82-3b4c67fb93a8",
   "metadata": {},
   "source": [
    "### 6.3. Word Clouds by Sentiment"
   ]
  },
  {
   "cell_type": "code",
   "execution_count": null,
   "id": "9b828030-2774-4925-ba4f-c4af50159ed1",
   "metadata": {},
   "outputs": [],
   "source": [
    "from wordcloud import WordCloud\n",
    "\n",
    "def get_wordcloud(text, title, color='viridis'):\n",
    "    wordcloud = WordCloud(width=800, height=400, background_color='white', colormap=color).generate(\" \".join(text))\n",
    "    plt.figure(figsize=(10, 5))\n",
    "    plt.imshow(wordcloud, interpolation='bilinear')\n",
    "    plt.axis('off')\n",
    "    plt.title(title)\n",
    "    plt.tight_layout()\n",
    "    plt.show()\n",
    "\n",
    "for sentiment in ['Positive', 'Neutral', 'Negative']:\n",
    "    filtered = results_df[results_df['RoBERTaAnalysis'] == sentiment]['CleanedReviews']\n",
    "    get_wordcloud(filtered, f'Most Frequent Words in {sentiment} Reviews')"
   ]
  },
  {
   "cell_type": "markdown",
   "id": "f4301428-2074-41dd-a5f0-1c683c9f551d",
   "metadata": {},
   "source": [
    "## 7. Model Evaluation"
   ]
  },
  {
   "cell_type": "markdown",
   "id": "b9e7ed73-5a58-44b9-a5e7-30c95ef47276",
   "metadata": {},
   "source": [
    "### 7.1. Classification Reports"
   ]
  },
  {
   "cell_type": "code",
   "execution_count": null,
   "id": "88e9266b-0543-4606-9dae-136d55dd4bc4",
   "metadata": {},
   "outputs": [],
   "source": [
    "from sklearn.metrics import classification_report\n",
    "\n",
    "print(\"VADER Evaluation:\")\n",
    "print(classification_report(results_df['VaderAnalysis'], results_df['VaderAnalysis']))\n",
    "\n",
    "print(\"\\nRoBERTa Evaluation:\")\n",
    "print(classification_report(results_df['VaderAnalysis'], results_df['RoBERTaAnalysis']))"
   ]
  },
  {
   "cell_type": "markdown",
   "id": "7c60e464-7918-4b60-b4e1-1be6af8f33b3",
   "metadata": {},
   "source": [
    "### 7.2. Confusion Matrix"
   ]
  },
  {
   "cell_type": "code",
   "execution_count": null,
   "id": "7729148d-6a33-4546-86d8-bf9f2e571e73",
   "metadata": {},
   "outputs": [],
   "source": [
    "from sklearn.metrics import confusion_matrix, ConfusionMatrixDisplay\n",
    "\n",
    "fig, axes = plt.subplots(1, 2, figsize=(14, 6))\n",
    "\n",
    "vader_cm = confusion_matrix(results_df['VaderAnalysis'], results_df['VaderAnalysis'], \n",
    "                           labels=['Negative', 'Neutral', 'Positive'])\n",
    "roberta_cm = confusion_matrix(results_df['VaderAnalysis'], results_df['RoBERTaAnalysis'], \n",
    "                             labels=['Negative', 'Neutral', 'Positive'])\n",
    "\n",
    "disp_vader = ConfusionMatrixDisplay(confusion_matrix=vader_cm,\n",
    "                                  display_labels=['Negative', 'Neutral', 'Positive'])\n",
    "disp_vader.plot(ax=axes[0], cmap='Blues')\n",
    "axes[0].set_title(\"VADER Confusion Matrix\")\n",
    "\n",
    "disp_roberta = ConfusionMatrixDisplay(confusion_matrix=roberta_cm,\n",
    "                                    display_labels=['Negative', 'Neutral', 'Positive'])\n",
    "disp_roberta.plot(ax=axes[1], cmap='Oranges')\n",
    "axes[1].set_title(\"RoBERTa Confusion Matrix\")\n",
    "\n",
    "plt.tight_layout()\n",
    "plt.show()"
   ]
  },
  {
   "cell_type": "markdown",
   "id": "f11f594b-598a-4bc4-ab33-b2ad1f3f5de5",
   "metadata": {},
   "source": [
    "## 8. Save Results"
   ]
  },
  {
   "cell_type": "code",
   "execution_count": null,
   "id": "4878854c-f406-499c-bd7b-cec1fbe3c8ca",
   "metadata": {},
   "outputs": [],
   "source": [
    "results_df.to_csv('namibia_tourism_sentiment_analysis_results.csv', index=False)\n",
    "print(\"Analysis results saved successfully!\")"
   ]
  }
 ],
 "metadata": {
  "kernelspec": {
   "display_name": "Python 3.10 (snscrape)",
   "language": "python",
   "name": "py310_snscrape"
  },
  "language_info": {
   "codemirror_mode": {
    "name": "ipython",
    "version": 3
   },
   "file_extension": ".py",
   "mimetype": "text/x-python",
   "name": "python",
   "nbconvert_exporter": "python",
   "pygments_lexer": "ipython3",
   "version": "3.12.7"
  }
 },
 "nbformat": 4,
 "nbformat_minor": 5
}
